{
 "cells": [
  {
   "cell_type": "code",
   "execution_count": null,
   "metadata": {},
   "outputs": [],
   "source": [
    "import pandas as pd\n",
    "import requests"
   ]
  },
  {
   "cell_type": "code",
   "execution_count": null,
   "metadata": {},
   "outputs": [],
   "source": [
    "# load data\n",
    "addr = pd.read_csv('../data/housing_inspections_an.csv', encoding='iso-8859-1')\n",
    "addr = addr[['BLDGNO_confidential', 'STNAME', 'STTYPE', 'QUAD']]\n",
    "addr = addr.rename(columns = {'BLDGNO_confidential': 'BLDG'})\n",
    "print(addr.shape)\n",
    "addr.head()"
   ]
  },
  {
   "cell_type": "code",
   "execution_count": null,
   "metadata": {},
   "outputs": [],
   "source": [
    "# assess missing values and drop duplicates\n",
    "print(addr.isnull().sum())\n",
    "addr = addr.dropna()\n",
    "addr = addr.drop_duplicates()\n",
    "addr.shape"
   ]
  },
  {
   "cell_type": "code",
   "execution_count": null,
   "metadata": {},
   "outputs": [],
   "source": [
    "# convert building number to int\n",
    "addr['BLDG'] = addr['BLDG'].astype(int).astype(str)\n",
    "addr.head()"
   ]
  },
  {
   "cell_type": "code",
   "execution_count": null,
   "metadata": {},
   "outputs": [],
   "source": [
    "# review http://citizenatlas.dc.gov/newwebservices/locationverifier.asmx?op=findLocation2\n",
    "host = 'http://citizenatlas.dc.gov'\n",
    "url = '/newwebservices/locationverifier.asmx/findLocation2'\n",
    "headers = {'Content-Type': 'application/x-www-form-urlencoded',\n",
    "           'Content-Length': 'length'}\n",
    "\n",
    "# access, parse, and transform\n",
    "def get_address_info(addr_str):\n",
    "    # sends a post request to MAR API to retrieve address information\n",
    "    data = {'str': addr_str, 'f': 'json'}\n",
    "    r = requests.post(url=host+url, data=data, headers=headers)\n",
    "    parsed = r.json()\n",
    "    info = parsed['returnDataset']['Table1'][0]\n",
    "    return info"
   ]
  },
  {
   "cell_type": "code",
   "execution_count": null,
   "metadata": {},
   "outputs": [],
   "source": [
    "# test function\n",
    "test_addr = '2722 olive st  nw'\n",
    "print(get_address_info(test_addr))"
   ]
  },
  {
   "cell_type": "code",
   "execution_count": null,
   "metadata": {},
   "outputs": [],
   "source": [
    "# automate info retrieval\n",
    "addr['ADDRESS'] = addr.BLDG + ' ' + addr.STNAME + ' ' + addr.STTYPE + ' ' + addr.QUAD\n",
    "addr.head()"
   ]
  },
  {
   "cell_type": "code",
   "execution_count": null,
   "metadata": {},
   "outputs": [],
   "source": [
    "# convert dataframe to list of dictionaries\n",
    "addr_dict = addr.to_dict(orient = 'records')\n",
    "addr_dict[:2]"
   ]
  },
  {
   "cell_type": "code",
   "execution_count": null,
   "metadata": {},
   "outputs": [],
   "source": [
    "# add info to address dictionaries (this takes awhile so only doing the first 10)\n",
    "addr_info = []\n",
    "for row in addr_dict[:10]:\n",
    "        info = get_address_info(row['ADDRESS'])\n",
    "        addr_info.append({**row, **info})\n",
    "addr_info[:1]"
   ]
  },
  {
   "cell_type": "code",
   "execution_count": null,
   "metadata": {},
   "outputs": [],
   "source": [
    "# store\n",
    "addr_df = pd.DataFrame(addr_info)\n",
    "addr_df.to_csv('../data/illegal_constructions_addresses.csv', index=False)\n",
    "addr_df.head()"
   ]
  }
 ],
 "metadata": {
  "kernelspec": {
   "display_name": "Python 3",
   "language": "python",
   "name": "python3"
  },
  "language_info": {
   "codemirror_mode": {
    "name": "ipython",
    "version": 3
   },
   "file_extension": ".py",
   "mimetype": "text/x-python",
   "name": "python",
   "nbconvert_exporter": "python",
   "pygments_lexer": "ipython3",
   "version": "3.6.5"
  }
 },
 "nbformat": 4,
 "nbformat_minor": 2
}
