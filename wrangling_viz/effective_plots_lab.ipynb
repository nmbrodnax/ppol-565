{
 "cells": [
  {
   "cell_type": "markdown",
   "metadata": {},
   "source": [
    "## Effective Plotting Lab"
   ]
  },
  {
   "cell_type": "code",
   "execution_count": null,
   "metadata": {},
   "outputs": [],
   "source": [
    "import numpy as np\n",
    "import pandas as pd\n",
    "import matplotlib.pyplot as plt"
   ]
  },
  {
   "cell_type": "code",
   "execution_count": null,
   "metadata": {},
   "outputs": [],
   "source": [
    "# Import\n",
    "pop = pd.read_csv('../data/snap_state_pop.csv')\n",
    "snap = pd.read_csv('../data/snap_state_prgnum.csv')\n",
    "snap = snap[snap['YEAR'].between(2000, 2010, inclusive=True)]\n",
    "regions = pd.read_csv('../data/census_regions.csv')"
   ]
  },
  {
   "cell_type": "code",
   "execution_count": null,
   "metadata": {},
   "outputs": [],
   "source": [
    "pop.head()\n",
    "snap.describe()\n",
    "regions.head()"
   ]
  },
  {
   "cell_type": "code",
   "execution_count": null,
   "metadata": {},
   "outputs": [],
   "source": [
    "# Merge\n",
    "snapdf = pd.merge(snap, pop, on=['STATE_CD', 'YEAR', 'STFIPS'], how='left')\n",
    "snapdf = pd.merge(snapdf, regions, on='STATE_CD', how='left')\n",
    "snapdf.head()"
   ]
  },
  {
   "cell_type": "markdown",
   "metadata": {},
   "source": [
    "### Line Plots"
   ]
  },
  {
   "cell_type": "code",
   "execution_count": null,
   "metadata": {},
   "outputs": [],
   "source": [
    "# Total by year\n",
    "snap_year = snapdf[snapdf['STATE_CD'] == 'United States'][['YEAR', 'PRGNUM', 'POP']]\n",
    "snap_year"
   ]
  },
  {
   "cell_type": "code",
   "execution_count": null,
   "metadata": {},
   "outputs": [],
   "source": [
    "# Per capita participation\n",
    "snap_year['PERCAP'] = (snap_year['PRGNUM']/snap_year['POP'])\n",
    "snap_year.head()"
   ]
  },
  {
   "cell_type": "code",
   "execution_count": null,
   "metadata": {},
   "outputs": [],
   "source": [
    "# SNAP participation over time\n",
    "plt.plot(snap_year.YEAR, snap_year.PERCAP)\n",
    "plt.xlabel('Year')\n",
    "plt.ylabel('% Population')\n",
    "plt.title('SNAP Participation')\n",
    "plt.show()"
   ]
  },
  {
   "cell_type": "code",
   "execution_count": null,
   "metadata": {},
   "outputs": [],
   "source": [
    "# per capita participation over time\n",
    "ax = plt.subplot()\n",
    "ax.plot(snap_year.YEAR, snap_year.PERCAP*100, color='green')\n",
    "for spine in ['right', 'top']:\n",
    "    ax.spines[spine].set_visible(False)\n",
    "# ax.spines['top'].set_visible(False)\n",
    "plt.xticks([2000, 2010])\n",
    "plt.title('SNAP Participants Doubled in Ten Years', size=14, color='green', loc='left')\n",
    "plt.text(1999.75, 12.9, 'Per 100 People', size=10)\n",
    "plt.text(2009.7, 6, 'Year', size=10)\n",
    "plt.show()"
   ]
  },
  {
   "cell_type": "markdown",
   "metadata": {},
   "source": [
    "### Bar Plots"
   ]
  },
  {
   "cell_type": "code",
   "execution_count": null,
   "metadata": {},
   "outputs": [],
   "source": [
    "# Participation by state 2010\n",
    "snap_state = snapdf[(snapdf['STATE_CD'] != 'United States') & (snapdf['YEAR'] == 2010)]\n",
    "snap_state = snap_state.sort_values('PRGNUM', ascending=False)\n",
    "snap_state.head()"
   ]
  },
  {
   "cell_type": "code",
   "execution_count": null,
   "metadata": {},
   "outputs": [],
   "source": [
    "# Snap participation by state in 2010\n",
    "fig1 = plt.figure(figsize=(16, 4))\n",
    "plt.bar(snap_state.STATE_CD, snap_state.PRGNUM/100000)\n",
    "plt.xlabel('State')\n",
    "plt.ylabel('Participants (Millions)')\n",
    "plt.title('SNAP Participation')\n",
    "plt.show()"
   ]
  },
  {
   "cell_type": "code",
   "execution_count": null,
   "metadata": {},
   "outputs": [],
   "source": [
    "# your code here\n"
   ]
  },
  {
   "cell_type": "markdown",
   "metadata": {},
   "source": [
    "### Scatter Plots"
   ]
  },
  {
   "cell_type": "code",
   "execution_count": null,
   "metadata": {},
   "outputs": [],
   "source": [
    "# participation vs population by state\n",
    "plt.scatter(snap_state.POP/1000000, snap_state.PRGNUM/1000000)\n",
    "plt.xlabel('Population (M)')\n",
    "plt.ylabel('Participants (M)')\n",
    "plt.title('SNAP Participation vs Population by State')\n",
    "plt.show()"
   ]
  },
  {
   "cell_type": "code",
   "execution_count": null,
   "metadata": {},
   "outputs": [],
   "source": [
    "# your code here\n"
   ]
  }
 ],
 "metadata": {
  "kernelspec": {
   "display_name": "Python 3",
   "language": "python",
   "name": "python3"
  },
  "language_info": {
   "codemirror_mode": {
    "name": "ipython",
    "version": 3
   },
   "file_extension": ".py",
   "mimetype": "text/x-python",
   "name": "python",
   "nbconvert_exporter": "python",
   "pygments_lexer": "ipython3",
   "version": "3.6.5"
  }
 },
 "nbformat": 4,
 "nbformat_minor": 2
}
